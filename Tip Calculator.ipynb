{
 "cells": [
  {
   "cell_type": "markdown",
   "id": "41d22565-8f85-4d5a-99f1-7976defd280e",
   "metadata": {},
   "source": [
    "# <en><center>Tip Calculator</center></en>"
   ]
  },
  {
   "cell_type": "code",
   "execution_count": null,
   "id": "5f5ff092-33e3-42d2-bcdb-afc3b9499323",
   "metadata": {},
   "outputs": [],
   "source": [
    "print(\"Welcome to the tip calculator!!\")\n",
    "total_bill = float(input(\"What was the total bill? \"))\n",
    "tip = float(input(\"What percentage tip would you like to give? (eg.15, 20, 15) \"))\n",
    "\n",
    "tip_percentage = tip / 100\n",
    "tip_amount = total_bill * tip_percentage\n",
    "\n",
    "bill_with_tip = total_bill + tip_amount\n",
    "\n",
    "bill_with_tip_message = f\"The total bill would amount to: ${bill_with_tip:.0f}\"\n",
    "\n",
    "print(bill_with_tip_message)\n",
    "\n",
    "split = int(input(\"How many people to split the bill? \"))\n",
    "bill_per_person = round(bill_with_tip / split, 2)\n",
    "message = \"{:.2f}\".format(bill_per_person)\n",
    "\n",
    "print(f\"Each person should contribute ${message} towards the bill.\")"
   ]
  }
 ],
 "metadata": {
  "kernelspec": {
   "display_name": "Python 3 (ipykernel)",
   "language": "python",
   "name": "python3"
  },
  "language_info": {
   "codemirror_mode": {
    "name": "ipython",
    "version": 3
   },
   "file_extension": ".py",
   "mimetype": "text/x-python",
   "name": "python",
   "nbconvert_exporter": "python",
   "pygments_lexer": "ipython3",
   "version": "3.10.10"
  }
 },
 "nbformat": 4,
 "nbformat_minor": 5
}
