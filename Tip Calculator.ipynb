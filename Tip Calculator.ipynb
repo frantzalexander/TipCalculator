{
 "cells": [
  {
   "cell_type": "markdown",
   "id": "41d22565-8f85-4d5a-99f1-7976defd280e",
   "metadata": {},
   "source": [
    "# <en><center>Tip Calculator</center></en>"
   ]
  },
  {
   "cell_type": "code",
   "execution_count": 2,
   "id": "5f5ff092-33e3-42d2-bcdb-afc3b9499323",
   "metadata": {},
   "outputs": [
    {
     "name": "stdout",
     "output_type": "stream",
     "text": [
      "Welcome to the tip calculator!!\n"
     ]
    },
    {
     "name": "stdin",
     "output_type": "stream",
     "text": [
      "What was the total bill?  1250\n",
      "What percentage tip would you like to give? (eg.15, 20, 15)  25\n"
     ]
    },
    {
     "name": "stdout",
     "output_type": "stream",
     "text": [
      "The total bill would amount to: $1562\n"
     ]
    },
    {
     "name": "stdin",
     "output_type": "stream",
     "text": [
      "How many people to split the bill?  11\n"
     ]
    },
    {
     "name": "stdout",
     "output_type": "stream",
     "text": [
      "Each person should contribute $142.05 towards the bill.\n"
     ]
    }
   ],
   "source": [
    "print(\"Welcome to the tip calculator!!\")\n",
    "total_bill = float(input(\"What was the total bill? \"))\n",
    "tip = float(input(\"What percentage tip would you like to give? (eg.15, 20, 15) \"))\n",
    "\n",
    "tip_percentage = tip / 100\n",
    "tip_amount = total_bill * tip_percentage\n",
    "\n",
    "bill_with_tip = total_bill + tip_amount\n",
    "\n",
    "bill_with_tip_message = f\"The total bill would amount to: ${bill_with_tip:.0f}\"\n",
    "\n",
    "print(bill_with_tip_message)\n",
    "\n",
    "split = int(input(\"How many people to split the bill? \"))\n",
    "bill_per_person = round(bill_with_tip / split, 2)\n",
    "message = \"{:.2f}\".format(bill_per_person)\n",
    "\n",
    "print(f\"Each person should contribute ${message} towards the bill.\")"
   ]
  },
  {
   "cell_type": "markdown",
   "id": "6a24aa95-1021-4b48-a208-90e465cedfa7",
   "metadata": {},
   "source": [
    "---"
   ]
  }
 ],
 "metadata": {
  "kernelspec": {
   "display_name": "Python 3 (ipykernel)",
   "language": "python",
   "name": "python3"
  },
  "language_info": {
   "codemirror_mode": {
    "name": "ipython",
    "version": 3
   },
   "file_extension": ".py",
   "mimetype": "text/x-python",
   "name": "python",
   "nbconvert_exporter": "python",
   "pygments_lexer": "ipython3",
   "version": "3.10.10"
  }
 },
 "nbformat": 4,
 "nbformat_minor": 5
}
